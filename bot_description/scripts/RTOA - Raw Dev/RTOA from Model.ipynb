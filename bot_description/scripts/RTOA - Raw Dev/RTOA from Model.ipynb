{
 "cells": [
  {
   "cell_type": "code",
   "execution_count": 1,
   "metadata": {},
   "outputs": [],
   "source": [
    "import cv2\n",
    "import numpy as np\n",
    "import tensorflow as tf\n",
    "from tensorflow import keras\n",
    "import os"
   ]
  },
  {
   "cell_type": "code",
   "execution_count": null,
   "metadata": {},
   "outputs": [],
   "source": [
    "bowl_cascade = cv2.CascadeClassifier('bowl/cascade.xml')\n",
    "MR_cascade = cv2.CascadeClassifier('Mars Rover/cascade.xml')\n",
    "#QC_cascade = cv2.CascadeClassifier('Quadcopter/cascade.xml')\n",
    "#wheel_cascade = cv2.CascadeClassifier('bowl/cascade.xml')\n",
    "#boxes_cascade = cv2.CascadeClassifier('bowl/cascade.xml')\n",
    "\n",
    "cap=cv2.VideoCapture(0)\n",
    "\n",
    "while 1:\n",
    "    ret, img = cap.read()\n",
    "    bowl = bowl_cascade.detectMultiScale(img1, 1.3, 5)\n",
    "    for (x,y,w,h) in bowl:\n",
    "        cv2.rectangle(img1,(x,y),(x+w,y+h),(255,0,255),2)\n",
    "        cv2.putText(img1,'Bowl',(x,y-5),cv2.FONT_HERSHEY_COMPLEX,2,(0,1500),1)\n",
    "        #roi_gray = gray[y:y+h, x:x+w]\n",
    "        roi_color = img1[y:y+h, x:x+w]\n",
    "        \n",
    "    MR = MR_cascade.detectMultiScale(img1, 1.3, 5)\n",
    "    for (x,y,w,h) in MR:\n",
    "        cv2.rectangle(img1,(x,y),(x+w,y+h),(255,0,0),2)\n",
    "        cv2.putText(img1,'MR',(x,y-5),cv2.FONT_HERSHEY_COMPLEX,2,(0,1500),1)\n",
    "        #roi_gray = gray[y:y+h, x:x+w]\n",
    "        roi_color = img1[y:y+h, x:x+w]\n",
    "\n",
    "    cv2.imshow('img',img1)\n",
    "    k = cv2.waitKey(30) & 0xff\n",
    "    if k == 27:\n",
    "        break\n",
    "\n",
    "cap.release()\n",
    "cv2.destroyAllWindows()"
   ]
  }
 ],
 "metadata": {
  "kernelspec": {
   "display_name": "Python 3",
   "language": "python",
   "name": "python3"
  },
  "language_info": {
   "codemirror_mode": {
    "name": "ipython",
    "version": 3
   },
   "file_extension": ".py",
   "mimetype": "text/x-python",
   "name": "python",
   "nbconvert_exporter": "python",
   "pygments_lexer": "ipython3",
<<<<<<< HEAD
   "version": "3.7.3"
=======
   "version": "3.5.6"
>>>>>>> 23c31a3014efcdd6a36a8a3070c71cb3fb65c399
  }
 },
 "nbformat": 4,
 "nbformat_minor": 4
}
