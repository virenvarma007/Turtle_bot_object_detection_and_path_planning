{
 "cells": [
  {
   "cell_type": "code",
   "execution_count": 1,
   "metadata": {},
   "outputs": [],
   "source": [
    "import numpy as np\n",
    "import cv2\n",
    "import tensorflow as tf\n",
    "from tensorflow.keras.models import load_model"
   ]
  },
  {
   "cell_type": "code",
   "execution_count": 2,
   "metadata": {},
   "outputs": [],
   "source": [
    "path = r'/home/pranshu/ROS_WORKSPACES/IEEE_P1/src/bot_description/images/Items/Bowl/img_(5.2092)__(-2.6254).jpg.jpg'"
   ]
  },
  {
   "cell_type": "code",
   "execution_count": 3,
   "metadata": {},
   "outputs": [
    {
     "data": {
      "text/plain": [
       "(1080, 1920, 3)"
      ]
     },
     "execution_count": 3,
     "metadata": {},
     "output_type": "execute_result"
    }
   ],
   "source": [
    "img = cv2.imread(path) \n",
    "\n",
    "img.shape"
   ]
  },
  {
   "cell_type": "code",
   "execution_count": 4,
   "metadata": {},
   "outputs": [],
   "source": [
    "cv2.imshow('image', img)\n",
    "cv2.waitKey(5000)\n",
    "cv2.destroyAllWindows()"
   ]
  },
  {
   "cell_type": "code",
   "execution_count": 5,
   "metadata": {},
   "outputs": [],
   "source": [
    "image_recieved0 = np.array(img)\n",
    "image_recieved = np.array(img)"
   ]
  },
  {
   "cell_type": "code",
   "execution_count": 6,
   "metadata": {},
   "outputs": [],
   "source": [
    "# Import Cascades\n",
    "bowl_cascade = cv2.CascadeClassifier('/home/pranshu/ROS_WORKSPACES/IEEE_P1/src/bot_description/cascades/bowl_cascade.xml')\n",
    "MR_cascade = cv2.CascadeClassifier('/home/pranshu/ROS_WORKSPACES/IEEE_P1/src/bot_description/cascades/MR_cascade.xml')\n",
    "QC_cascade = cv2.CascadeClassifier('/home/pranshu/ROS_WORKSPACES/IEEE_P1/src/bot_description/cascades/QC_cascade.xml')\n",
    "wheel_cascade = cv2.CascadeClassifier('/home/pranshu/ROS_WORKSPACES/IEEE_P1/src/bot_description/cascades/Wheel_cascade.xml')\n",
    "\n",
    "# Import Model\n",
    "model= load_model('/home/pranshu/ROS_WORKSPACES/IEEE_P1/src/bot_description/CNN/CNN.h5')"
   ]
  },
  {
   "cell_type": "code",
   "execution_count": 7,
   "metadata": {},
   "outputs": [],
   "source": [
    "#Initialize Values\n",
    "class_i=-1\n",
    "class_x=-1\n",
    "class_y=-1\n",
    "class_w=-1\n",
    "class_h=-1"
   ]
  },
  {
   "cell_type": "code",
   "execution_count": 8,
   "metadata": {},
   "outputs": [],
   "source": [
    "# Resize Image\n",
    "image_recieved= tf.image.resize(image_recieved,[224,224])\n",
    "image_recieved2=tf.reshape(image_recieved,[1,224,224,3])"
   ]
  },
  {
   "cell_type": "code",
   "execution_count": 9,
   "metadata": {},
   "outputs": [
    {
     "ename": "SyntaxError",
     "evalue": "invalid syntax (<ipython-input-9-8f82ff7a3078>, line 6)",
     "output_type": "error",
     "traceback": [
      "\u001b[0;36m  File \u001b[0;32m\"<ipython-input-9-8f82ff7a3078>\"\u001b[0;36m, line \u001b[0;32m6\u001b[0m\n\u001b[0;31m    image_recieved2=tf.reshape(image_recieved,[1,224,224,3])ax(predictions)\u001b[0m\n\u001b[0m                                                            ^\u001b[0m\n\u001b[0;31mSyntaxError\u001b[0m\u001b[0;31m:\u001b[0m invalid syntax\n"
     ]
    }
   ],
   "source": [
    "#Predict\n",
    "predictions= model.predict(image_recieved2)\n",
    "classNo1=model.predict_classes(image_recieved2)\n",
    "probabilityValue= np.amax(predictions)\n",
    "classNo=classNo1.tolist()"
   ]
  },
  {
   "cell_type": "code",
   "execution_count": null,
   "metadata": {},
   "outputs": [],
   "source": [
    "print(classNo)"
   ]
  },
  {
   "cell_type": "code",
   "execution_count": null,
   "metadata": {},
   "outputs": [],
   "source": [
    "if classNo[0] is 1:\n",
    "    bowl = bowl_cascade.detectMultiScale(image_recieved, 1.3, 5)\n",
    "    for (x,y,w,h) in bowl:\n",
    "        cv2.rectangle(img_x,(x,y),(x+w,y+h),(255,0,255),2)\n",
    "        cv2.putText(img_x,'Bowl',(x,y-5),cv2.FONT_HERSHEY_COMPLEX,2,(0,1500),1)\n",
    "        #roi_gray = gray[y:y+h, x:x+w]\n",
    "        roi_color = img_x[y:y+h, x:x+w]\n",
    "        cv2.imshow(\"img\",img_x)\n",
    "        cv2.waitKey(0)\n",
    "        # cv2.destroyAllWindows() \n",
    "        ans=[classNo[0],x,y,w,h]\n",
    "\n",
    "if classNo[0] is 3:\n",
    "    MR = MR_cascade.detectMultiScale(image_recieved0, 1.3, 5)\n",
    "    for (x,y,w,h) in MR:\n",
    "        cv2.rectangle(image_recieved0,(x,y),(x+w,y+h),(255,0,0),2)\n",
    "        cv2.putText(image_recieved0,'MR',(x,y-5),cv2.FONT_HERSHEY_COMPLEX,2,(0,1500),1)\n",
    "        #roi_gray = gray[y:y+h, x:x+w]\n",
    "        roi_color = image_recieved[y:y+h, x:x+w]\n",
    "        cv2.imshow('result',image_recieved0)\n",
    "        cv2.waitKey(10000)\n",
    "        cv2.destroyAllWindows()\n",
    "        # cv2.destroyAllWindows()\n",
    "        ans=[classNo[0],x,y,w,h]\n",
    "\n",
    "if classNo[0] is 0:\n",
    "    QC = QC_cascade.detectMultiScale(image_recieved, 1.3, 5)\n",
    "    for (x,y,w,h) in QC:\n",
    "        cv2.rectangle(image_recieved,(x,y),(x+w,y+h),(0,0,255),2)\n",
    "        cv2.putText(image_recieved,'QC',(x,y-5),cv2.FONT_HERSHEY_COMPLEX,2,(0,1500),1)\n",
    "        #roi_gray = gray[y:y+h, x:x+w]\n",
    "        roi_color = image_recieved[y:y+h, x:x+w]\n",
    "        # cv2.imshow(x)\n",
    "        # cv2.destroyAllWindows()\n",
    "        ans=[classNo[0],x,y,w,h]\n",
    "\n",
    "if classNo[0] is 2:\n",
    "    Wheel = wheel_cascade.detectMultiScale(image_recieved, 1.3, 5)\n",
    "    for (x,y,w,h) in Wheel:\n",
    "        cv2.rectangle(image_recieved,(x,y),(x+w,y+h),(255,255,0),2)\n",
    "        cv2.putText(image_recieved,'Wheel',(x,y-5),cv2.FONT_HERSHEY_COMPLEX,2,(0,1500),1)\n",
    "        #roi_gray = gray[y:y+h, x:x+w]\n",
    "        roi_color = image_recieved[y:y+h, x:x+w]\n",
    "        # cv2.imshow(x)\n",
    "        # cv2.destroyAllWindows()\n",
    "        ans=[classNo[0],x,y,w,h]\n",
    "        \n",
    "print(ans)"
   ]
  },
  {
   "cell_type": "code",
   "execution_count": null,
   "metadata": {},
   "outputs": [],
   "source": [
    "centroid_point =[ans[1]+ans[3]/2, ans[2]+ans[4]/2]"
   ]
  },
  {
   "cell_type": "code",
   "execution_count": null,
   "metadata": {},
   "outputs": [],
   "source": [
    "centroid_point"
   ]
  },
  {
   "cell_type": "code",
   "execution_count": null,
   "metadata": {},
   "outputs": [],
   "source": [
    "path_depth = r'/home/pranshu/ROS_WORKSPACES/IEEE_P1/src/bot_description/images/depth_img_(-0.6498)__(3.6606).jpg.jpg'"
   ]
  },
  {
   "cell_type": "code",
   "execution_count": null,
   "metadata": {},
   "outputs": [],
   "source": [
    "img2 = cv2.imread(path_depth) "
   ]
  },
  {
   "cell_type": "code",
   "execution_count": null,
   "metadata": {},
   "outputs": [],
   "source": [
    "cv2.imshow('depth_image', img2)\n",
    "cv2.waitKey(5000)\n",
    "cv2.destroyAllWindows()"
   ]
  },
  {
   "cell_type": "code",
   "execution_count": null,
   "metadata": {},
   "outputs": [],
   "source": [
    "image_recieved = np.array(img2,dtype=np.float32)"
   ]
  },
  {
   "cell_type": "code",
   "execution_count": null,
   "metadata": {},
   "outputs": [],
   "source": [
    "image_recieved.shape"
   ]
  },
  {
   "cell_type": "code",
   "execution_count": null,
   "metadata": {},
   "outputs": [],
   "source": []
  }
 ],
 "metadata": {
  "kernelspec": {
   "display_name": "Python 3",
   "language": "python",
   "name": "python3"
  },
  "language_info": {
   "codemirror_mode": {
    "name": "ipython",
    "version": 3
   },
   "file_extension": ".py",
   "mimetype": "text/x-python",
   "name": "python",
   "nbconvert_exporter": "python",
   "pygments_lexer": "ipython3",
   "version": "3.9.2"
  }
 },
 "nbformat": 4,
 "nbformat_minor": 2
}
